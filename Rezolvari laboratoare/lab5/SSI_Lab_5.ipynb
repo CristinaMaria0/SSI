{
  "nbformat": 4,
  "nbformat_minor": 0,
  "metadata": {
    "colab": {
      "provenance": []
    },
    "kernelspec": {
      "name": "python3",
      "display_name": "Python 3"
    },
    "language_info": {
      "name": "python"
    }
  },
  "cells": [
    {
      "cell_type": "markdown",
      "source": [
        "1"
      ],
      "metadata": {
        "id": "hZ6ghnUYGTlo"
      }
    },
    {
      "cell_type": "code",
      "execution_count": null,
      "metadata": {
        "id": "DMP-y3izGLbW"
      },
      "outputs": [],
      "source": [
        "seed=5\n",
        "try:\n",
        "  while True:\n",
        "    print(seed)\n",
        "    seed=seed^seed\n",
        "except KeyboardInterrupt:\n",
        "  pass"
      ]
    },
    {
      "cell_type": "code",
      "source": [
        "seed=5\n",
        "try:\n",
        "  while True:\n",
        "    print(seed)\n",
        "    seed=int(seed+seed/2)\n",
        "except KeyboardInterrupt:\n",
        "  pass"
      ],
      "metadata": {
        "id": "NRWiKVrfrBNE"
      },
      "execution_count": null,
      "outputs": []
    },
    {
      "cell_type": "markdown",
      "source": [
        "2. Generează o parolă de minim 10 caractere care conține cel puțin o literă mare, o\n",
        "literă mică, o cifră și un caracter special (.!$@).\n",
        "La ce poate să folosească într-o aplicație informatică această funcționalitate? Dați\n",
        "exemplu de un scenariu de utilizare\n",
        "\n",
        "Exemplu utilizare: Generare parole random pentru utilizatori"
      ],
      "metadata": {
        "id": "jfWuunxHGXhn"
      }
    },
    {
      "cell_type": "code",
      "source": [
        "import secrets\n",
        "def generatePassword():\n",
        "    alphabet = \"ABCDEFGHIJKLMNOPQRSTUVWXYZ\"\n",
        "    numbers = \"1234567890\"\n",
        "    characters = alphabet.lower() + alphabet + numbers + \".!$@\"\n",
        "    base = ''.join([secrets.choice(l) for l in [alphabet.lower(), alphabet, numbers, \".!$@\"]])\n",
        "    return base + ''.join(secrets.choice(characters) for _ in range(6))"
      ],
      "metadata": {
        "id": "OdMHRXirGYdt"
      },
      "execution_count": null,
      "outputs": []
    },
    {
      "cell_type": "markdown",
      "source": [
        "Generează un string URL-safe de (cel puțin) 32 caractere.\n",
        "La ce poate să folosească într-o aplicație informatică această funcționalitate? Dați exemplu de un scenariu de utilizare"
      ],
      "metadata": {
        "id": "4v1M9X_iG8YO"
      }
    },
    {
      "cell_type": "code",
      "source": [
        "secrets.token_urlsafe(32)"
      ],
      "metadata": {
        "colab": {
          "base_uri": "https://localhost:8080/",
          "height": 36
        },
        "id": "qsU7anbeGYlP",
        "outputId": "a60401e7-d85d-4aec-8b36-8a25d02f5de1"
      },
      "execution_count": null,
      "outputs": [
        {
          "output_type": "execute_result",
          "data": {
            "text/plain": [
              "'6vjOG1Svv9cFgO3dXiK6Pjxd3iG25StGlfux_iJmx78'"
            ],
            "application/vnd.google.colaboratory.intrinsic+json": {
              "type": "string"
            }
          },
          "metadata": {},
          "execution_count": 3
        }
      ]
    },
    {
      "cell_type": "markdown",
      "source": [
        "Generează un token hexazecimal de (cel puțin) 32 cifre hexazecimale.\n",
        "La ce poate să folosească într-o aplicație informatică această funcționalitate? Dați\n",
        "exemplu de un scenariu de utilizare (diferit de scenariul anterior).\n",
        "\n",
        "Ex. Utilizare: Generare key random pentru criptarea unor mesaje"
      ],
      "metadata": {
        "id": "l9snMd5sHGC2"
      }
    },
    {
      "cell_type": "code",
      "source": [
        "secrets.token_hex(32)"
      ],
      "metadata": {
        "colab": {
          "base_uri": "https://localhost:8080/",
          "height": 36
        },
        "id": "iH_9OgIPHGLk",
        "outputId": "1ddcdfac-5178-4208-a844-b8e0118f1606"
      },
      "execution_count": null,
      "outputs": [
        {
          "output_type": "execute_result",
          "data": {
            "text/plain": [
              "'9d4076265c4fe25923b2416d938d6b0f9460bbbc368f3c6ed91b3045c9f6a518'"
            ],
            "application/vnd.google.colaboratory.intrinsic+json": {
              "type": "string"
            }
          },
          "metadata": {},
          "execution_count": 4
        }
      ]
    },
    {
      "cell_type": "markdown",
      "source": [
        "Verifică dacă 2 secvențe sunt identice sau nu"
      ],
      "metadata": {
        "id": "2NgNIGdQIOOD"
      }
    },
    {
      "cell_type": "code",
      "source": [
        "def check(a, b):\n",
        "    return secrets.compare_digest(a, b)"
      ],
      "metadata": {
        "id": "sDqgbCzWIOVI"
      },
      "execution_count": null,
      "outputs": []
    }
  ]
}